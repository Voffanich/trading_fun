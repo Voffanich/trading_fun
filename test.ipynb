{
 "cells": [
  {
   "cell_type": "code",
   "execution_count": 32,
   "metadata": {},
   "outputs": [
    {
     "name": "stdout",
     "output_type": "stream",
     "text": [
      "1.00446e-07\n"
     ]
    }
   ],
   "source": [
    "a = 0.0000001004456034\n",
    "print(f'{a:3g}')"
   ]
  },
  {
   "cell_type": "code",
   "execution_count": 62,
   "metadata": {},
   "outputs": [
    {
     "data": {
      "text/plain": [
       "7"
      ]
     },
     "execution_count": 62,
     "metadata": {},
     "output_type": "execute_result"
    }
   ],
   "source": [
    "import math\n",
    "a = 1256.1349\n",
    "b = 0.0000001\n",
    "math.floor(abs(math.log(b, 10)))"
   ]
  },
  {
   "cell_type": "code",
   "execution_count": 91,
   "metadata": {},
   "outputs": [
    {
     "name": "stdout",
     "output_type": "stream",
     "text": [
      "zero_counter=2\n",
      "0.00341\n",
      "zero_counter=5\n",
      "1.01e-06\n",
      "zero_counter=1\n",
      "-0.0233\n"
     ]
    }
   ],
   "source": [
    "a = 0.00341005743\n",
    "b = 0.000001010100020445\n",
    "c = -0.02330055\n",
    "\n",
    "def round_to_significant(number: float, precision: int) -> float:\n",
    "    \n",
    "    zero_counter = 0\n",
    "    check_number = number\n",
    "    \n",
    "    if abs(check_number) >= 1:\n",
    "        return \"Wrong number!\"\n",
    "    else:\n",
    "        while True:\n",
    "            check_number *=10\n",
    "            if abs(check_number) < 1:\n",
    "                zero_counter += 1\n",
    "            else:\n",
    "                break\n",
    "    \n",
    "    return round(number, zero_counter + precision)\n",
    "    \n",
    "    \n",
    "        \n",
    "print(round_to_significant(a, 3))\n",
    "print(round_to_significant(b, 3))\n",
    "print(round_to_significant(c, 3))\n",
    "\n",
    "    "
   ]
  },
  {
   "cell_type": "code",
   "execution_count": null,
   "metadata": {},
   "outputs": [],
   "source": []
  },
  {
   "cell_type": "code",
   "execution_count": 92,
   "metadata": {},
   "outputs": [
    {
     "name": "stdout",
     "output_type": "stream",
     "text": [
      "0.00341\n",
      "1.01e-06\n",
      "23.02\n"
     ]
    }
   ],
   "source": [
    "a = 0.00341005743\n",
    "b = 0.000001010100020445\n",
    "c = 23.02330055\n",
    "\n",
    "def round_to_significant(number: float, precision: int) -> float:\n",
    "    \n",
    "    zero_counter = 0\n",
    "    check_number = number\n",
    "    \n",
    "    if abs(check_number) >= 1:\n",
    "        return round(number, precision - 1)\n",
    "    else:\n",
    "        while True:\n",
    "            check_number *=10\n",
    "            if abs(check_number) < 1:\n",
    "                zero_counter += 1\n",
    "            else:\n",
    "                break\n",
    "    \n",
    "    return round(number, zero_counter + precision)\n",
    "    \n",
    "    \n",
    "        \n",
    "print(round_to_significant(a, 3))\n",
    "print(round_to_significant(b, 3))\n",
    "print(round_to_significant(c, 3))\n",
    "\n",
    "    "
   ]
  },
  {
   "cell_type": "code",
   "execution_count": 40,
   "metadata": {},
   "outputs": [
    {
     "name": "stdout",
     "output_type": "stream",
     "text": [
      "Дирмо\n"
     ]
    }
   ],
   "source": [
    "import re\n",
    "column = '2d^eal_id_1'\n",
    "\n",
    "if re.fullmatch(r'[a-zA-Z0-9_]*', column):\n",
    "    print('Все чики-пуки')\n",
    "else:\n",
    "    print('Дирмо')"
   ]
  }
 ],
 "metadata": {
  "kernelspec": {
   "display_name": "Python 3.10.4 64-bit",
   "language": "python",
   "name": "python3"
  },
  "language_info": {
   "codemirror_mode": {
    "name": "ipython",
    "version": 3
   },
   "file_extension": ".py",
   "mimetype": "text/x-python",
   "name": "python",
   "nbconvert_exporter": "python",
   "pygments_lexer": "ipython3",
   "version": "3.10.4"
  },
  "orig_nbformat": 4,
  "vscode": {
   "interpreter": {
    "hash": "b09bb63d7c5b201608fc1825c6deafbc4ca04c877e7368bb0421f6193d1b1d7a"
   }
  }
 },
 "nbformat": 4,
 "nbformat_minor": 2
}
