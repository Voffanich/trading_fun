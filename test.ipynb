{
 "cells": [
  {
   "cell_type": "code",
   "execution_count": 32,
   "metadata": {},
   "outputs": [
    {
     "name": "stdout",
     "output_type": "stream",
     "text": [
      "1.00446e-07\n"
     ]
    }
   ],
   "source": [
    "a = 0.0000001004456034\n",
    "print(f'{a:3g}')"
   ]
  },
  {
   "cell_type": "code",
   "execution_count": 62,
   "metadata": {},
   "outputs": [
    {
     "data": {
      "text/plain": [
       "7"
      ]
     },
     "execution_count": 62,
     "metadata": {},
     "output_type": "execute_result"
    }
   ],
   "source": [
    "import math\n",
    "a = 1256.1349\n",
    "b = 0.0000001\n",
    "math.floor(abs(math.log(b, 10)))"
   ]
  },
  {
   "cell_type": "code",
   "execution_count": 91,
   "metadata": {},
   "outputs": [
    {
     "name": "stdout",
     "output_type": "stream",
     "text": [
      "zero_counter=2\n",
      "0.00341\n",
      "zero_counter=5\n",
      "1.01e-06\n",
      "zero_counter=1\n",
      "-0.0233\n"
     ]
    }
   ],
   "source": [
    "a = 0.00341005743\n",
    "b = 0.000001010100020445\n",
    "c = -0.02330055\n",
    "\n",
    "def round_to_significant(number: float, precision: int) -> float:\n",
    "    \n",
    "    zero_counter = 0\n",
    "    check_number = number\n",
    "    \n",
    "    if abs(check_number) >= 1:\n",
    "        return \"Wrong number!\"\n",
    "    else:\n",
    "        while True:\n",
    "            check_number *=10\n",
    "            if abs(check_number) < 1:\n",
    "                zero_counter += 1\n",
    "            else:\n",
    "                break\n",
    "    \n",
    "    return round(number, zero_counter + precision)\n",
    "    \n",
    "    \n",
    "        \n",
    "print(round_to_significant(a, 3))\n",
    "print(round_to_significant(b, 3))\n",
    "print(round_to_significant(c, 3))\n",
    "\n",
    "    "
   ]
  },
  {
   "cell_type": "code",
   "execution_count": null,
   "metadata": {},
   "outputs": [],
   "source": []
  },
  {
   "cell_type": "code",
   "execution_count": 92,
   "metadata": {},
   "outputs": [
    {
     "name": "stdout",
     "output_type": "stream",
     "text": [
      "0.00341\n",
      "1.01e-06\n",
      "23.02\n"
     ]
    }
   ],
   "source": [
    "a = 0.00341005743\n",
    "b = 0.000001010100020445\n",
    "c = 23.02330055\n",
    "\n",
    "def round_to_significant(number: float, precision: int) -> float:\n",
    "    \n",
    "    zero_counter = 0\n",
    "    check_number = number\n",
    "    \n",
    "    if abs(check_number) >= 1:\n",
    "        return round(number, precision - 1)\n",
    "    else:\n",
    "        while True:\n",
    "            check_number *=10\n",
    "            if abs(check_number) < 1:\n",
    "                zero_counter += 1\n",
    "            else:\n",
    "                break\n",
    "    \n",
    "    return round(number, zero_counter + precision)\n",
    "    \n",
    "    \n",
    "        \n",
    "print(round_to_significant(a, 3))\n",
    "print(round_to_significant(b, 3))\n",
    "print(round_to_significant(c, 3))\n",
    "\n",
    "    "
   ]
  },
  {
   "cell_type": "code",
   "execution_count": 7,
   "metadata": {},
   "outputs": [
    {
     "name": "stdout",
     "output_type": "stream",
     "text": [
      "[(1, '2023-06-01 15:43:10', 'BNBUSDT', '1m', 'long', 1.48, 304.9, 305.185, 304.71, 0.09, 0.06, None, None, 'active', ''), (2, '2023-06-01 15:44:39', 'ATOMUSDT', '1m', 'long', 2.13, 10.37, 10.3947, 10.358600000000001, 0.24, 0.11, None, None, 'active', ''), (3, '2023-06-01 15:45:38', 'ATOMUSDT', '1m', 'long', 4.33, 10.374, 10.394900000000002, 10.36925, 0.2, 0.05, None, None, 'active', ''), (4, '2023-06-01 15:46:41', 'GALAUSDT', '1m', 'short', 1.64, 0.02984, 0.029745, 0.029897, 0.32, 0.19, None, None, 'active', ''), (5, '2023-06-01 15:48:11', 'ETHUSDT', '1m', 'long', 8.16, 1863.14, 1865.819, 1862.817, 0.14, 0.02, None, None, 'active', ''), (6, '2023-06-01 15:48:13', 'BNBUSDT', '1m', 'long', 1.48, 304.9, 305.185, 304.71, 0.09, 0.06, None, None, 'active', ''), (7, '2023-06-01 15:48:21', 'SOLUSDT', '1m', 'long', 1.64, 20.79, 20.8375, 20.7615, 0.23, 0.14, None, None, 'active', ''), (8, '2023-06-01 15:52:07', 'BTCUSDT', '1m', 'long', 348.59, 26937.11, 27482.239, 26935.571, 2.02, 0.01, None, None, 'active', ''), (9, '2023-06-01 15:52:09', 'ETHUSDT', '1m', 'long', 1.59, 1864.01, 1865.8625, 1862.8605, 0.1, 0.06, None, None, 'active', ''), (10, '2023-06-01 15:52:41', 'ATOMUSDT', '1m', 'long', 2.81, 10.376, 10.395000000000001, 10.369349999999999, 0.18, 0.06, None, None, 'active', '')]\n"
     ]
    },
    {
     "ename": "TypeError",
     "evalue": "Deal.__init__() got an unexpected keyword argument 'best_price'",
     "output_type": "error",
     "traceback": [
      "\u001b[1;31m---------------------------------------------------------------------------\u001b[0m",
      "\u001b[1;31mTypeError\u001b[0m                                 Traceback (most recent call last)",
      "Cell \u001b[1;32mIn[7], line 4\u001b[0m\n\u001b[0;32m      1\u001b[0m \u001b[38;5;28;01mfrom\u001b[39;00m \u001b[38;5;21;01mdb_funcs\u001b[39;00m \u001b[38;5;28;01mimport\u001b[39;00m db\n\u001b[1;32m----> 4\u001b[0m \u001b[38;5;28mprint\u001b[39m(\u001b[43mdb\u001b[49m\u001b[38;5;241;43m.\u001b[39;49m\u001b[43mread_active_deals\u001b[49m\u001b[43m(\u001b[49m\u001b[43m)\u001b[49m)\n",
      "File \u001b[1;32me:\\VB\\trading_fun\\db_funcs.py:78\u001b[0m, in \u001b[0;36mDB_handler.read_active_deals\u001b[1;34m(self)\u001b[0m\n\u001b[0;32m     75\u001b[0m     deals_list \u001b[39m=\u001b[39m []\n\u001b[0;32m     77\u001b[0m     \u001b[39mfor\u001b[39;00m deal \u001b[39min\u001b[39;00m deals:\n\u001b[1;32m---> 78\u001b[0m         deals_list\u001b[39m.\u001b[39mappend(lv\u001b[39m.\u001b[39;49mDeal(\n\u001b[0;32m     79\u001b[0m             deal_id\u001b[39m=\u001b[39;49mdeal[\u001b[39m0\u001b[39;49m],\n\u001b[0;32m     80\u001b[0m             timestamp\u001b[39m=\u001b[39;49mdeal[\u001b[39m1\u001b[39;49m],\n\u001b[0;32m     81\u001b[0m             pair\u001b[39m=\u001b[39;49mdeal[\u001b[39m2\u001b[39;49m],\n\u001b[0;32m     82\u001b[0m             timeframe\u001b[39m=\u001b[39;49mdeal[\u001b[39m3\u001b[39;49m],\n\u001b[0;32m     83\u001b[0m             direction\u001b[39m=\u001b[39;49mdeal[\u001b[39m4\u001b[39;49m],\n\u001b[0;32m     84\u001b[0m             profit_loss_ratio\u001b[39m=\u001b[39;49mdeal[\u001b[39m5\u001b[39;49m],\n\u001b[0;32m     85\u001b[0m             entry_price\u001b[39m=\u001b[39;49mdeal[\u001b[39m6\u001b[39;49m],\n\u001b[0;32m     86\u001b[0m             take_price\u001b[39m=\u001b[39;49mdeal[\u001b[39m7\u001b[39;49m],\n\u001b[0;32m     87\u001b[0m             stop_price\u001b[39m=\u001b[39;49mdeal[\u001b[39m8\u001b[39;49m],\n\u001b[0;32m     88\u001b[0m             take_distance_percentage\u001b[39m=\u001b[39;49mdeal[\u001b[39m9\u001b[39;49m],\n\u001b[0;32m     89\u001b[0m             stop_distance_percentage\u001b[39m=\u001b[39;49mdeal[\u001b[39m10\u001b[39;49m],\n\u001b[0;32m     90\u001b[0m             best_price \u001b[39m=\u001b[39;49m deal[\u001b[39m11\u001b[39;49m],\n\u001b[0;32m     91\u001b[0m             worst_price \u001b[39m=\u001b[39;49m deal[\u001b[39m12\u001b[39;49m],\n\u001b[0;32m     92\u001b[0m             status \u001b[39m=\u001b[39;49m deal[\u001b[39m13\u001b[39;49m],\n\u001b[0;32m     93\u001b[0m             indicators\u001b[39m=\u001b[39;49mdeal[\u001b[39m14\u001b[39;49m]                                        \n\u001b[0;32m     94\u001b[0m         ))\n\u001b[0;32m     96\u001b[0m         \u001b[39mreturn\u001b[39;00m deals_list\n\u001b[0;32m     97\u001b[0m \u001b[39mexcept\u001b[39;00m sqlite3\u001b[39m.\u001b[39mError \u001b[39mas\u001b[39;00m error:\n",
      "\u001b[1;31mTypeError\u001b[0m: Deal.__init__() got an unexpected keyword argument 'best_price'"
     ]
    }
   ],
   "source": [
    "from db_funcs import db\n",
    "\n",
    "\n",
    "print(db.read_active_deals())"
   ]
  },
  {
   "cell_type": "code",
   "execution_count": null,
   "metadata": {},
   "outputs": [],
   "source": []
  }
 ],
 "metadata": {
  "kernelspec": {
   "display_name": "Python 3.10.4 64-bit",
   "language": "python",
   "name": "python3"
  },
  "language_info": {
   "codemirror_mode": {
    "name": "ipython",
    "version": 3
   },
   "file_extension": ".py",
   "mimetype": "text/x-python",
   "name": "python",
   "nbconvert_exporter": "python",
   "pygments_lexer": "ipython3",
   "version": "3.10.4"
  },
  "orig_nbformat": 4,
  "vscode": {
   "interpreter": {
    "hash": "b09bb63d7c5b201608fc1825c6deafbc4ca04c877e7368bb0421f6193d1b1d7a"
   }
  }
 },
 "nbformat": 4,
 "nbformat_minor": 2
}
