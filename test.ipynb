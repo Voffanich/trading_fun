{
 "cells": [
  {
   "cell_type": "code",
   "execution_count": 2,
   "metadata": {},
   "outputs": [
    {
     "name": "stdout",
     "output_type": "stream",
     "text": [
      "1.00446e-07\n"
     ]
    }
   ],
   "source": [
    "a = 0.0000001004456034\n",
    "print(f'{a:3g}')"
   ]
  },
  {
   "cell_type": "code",
   "execution_count": 3,
   "metadata": {},
   "outputs": [
    {
     "data": {
      "text/plain": [
       "7"
      ]
     },
     "execution_count": 3,
     "metadata": {},
     "output_type": "execute_result"
    }
   ],
   "source": [
    "import math\n",
    "a = 1256.1349\n",
    "b = 0.0000001\n",
    "math.floor(abs(math.log(b, 10)))"
   ]
  },
  {
   "cell_type": "code",
   "execution_count": 4,
   "metadata": {},
   "outputs": [
    {
     "name": "stdout",
     "output_type": "stream",
     "text": [
      "0.00341\n",
      "1.01e-06\n",
      "-0.0233\n"
     ]
    }
   ],
   "source": [
    "a = 0.00341005743\n",
    "b = 0.000001010100020445\n",
    "c = -0.02330055\n",
    "\n",
    "def round_to_significant(number: float, precision: int) -> float:\n",
    "    \n",
    "    zero_counter = 0\n",
    "    check_number = number\n",
    "    \n",
    "    if abs(check_number) >= 1:\n",
    "        return \"Wrong number!\"\n",
    "    else:\n",
    "        while True:\n",
    "            check_number *=10\n",
    "            if abs(check_number) < 1:\n",
    "                zero_counter += 1\n",
    "            else:\n",
    "                break\n",
    "    \n",
    "    return round(number, zero_counter + precision)\n",
    "    \n",
    "    \n",
    "        \n",
    "print(round_to_significant(a, 3))\n",
    "print(round_to_significant(b, 3))\n",
    "print(round_to_significant(c, 3))\n",
    "\n",
    "    "
   ]
  },
  {
   "cell_type": "code",
   "execution_count": null,
   "metadata": {},
   "outputs": [],
   "source": []
  },
  {
   "cell_type": "code",
   "execution_count": 5,
   "metadata": {},
   "outputs": [
    {
     "name": "stdout",
     "output_type": "stream",
     "text": [
      "0.00341\n",
      "1.01e-06\n",
      "23.02\n"
     ]
    }
   ],
   "source": [
    "a = 0.00341005743\n",
    "b = 0.000001010100020445\n",
    "c = 23.02330055\n",
    "\n",
    "def round_to_significant(number: float, precision: int) -> float:\n",
    "    \n",
    "    zero_counter = 0\n",
    "    check_number = number\n",
    "    \n",
    "    if abs(check_number) >= 1:\n",
    "        return round(number, precision - 1)\n",
    "    else:\n",
    "        while True:\n",
    "            check_number *=10\n",
    "            if abs(check_number) < 1:\n",
    "                zero_counter += 1\n",
    "            else:\n",
    "                break\n",
    "    \n",
    "    return round(number, zero_counter + precision)\n",
    "    \n",
    "    \n",
    "        \n",
    "print(round_to_significant(a, 3))\n",
    "print(round_to_significant(b, 3))\n",
    "print(round_to_significant(c, 3))\n",
    "\n",
    "    "
   ]
  },
  {
   "cell_type": "code",
   "execution_count": 6,
   "metadata": {},
   "outputs": [
    {
     "ename": "ImportError",
     "evalue": "cannot import name 'db' from 'db_funcs' (e:\\VB\\trading_fun\\db_funcs.py)",
     "output_type": "error",
     "traceback": [
      "\u001b[1;31m---------------------------------------------------------------------------\u001b[0m",
      "\u001b[1;31mImportError\u001b[0m                               Traceback (most recent call last)",
      "Cell \u001b[1;32mIn[6], line 1\u001b[0m\n\u001b[1;32m----> 1\u001b[0m \u001b[38;5;28;01mfrom\u001b[39;00m \u001b[38;5;21;01mdb_funcs\u001b[39;00m \u001b[38;5;28;01mimport\u001b[39;00m db\n\u001b[0;32m      4\u001b[0m \u001b[38;5;28mprint\u001b[39m(db\u001b[38;5;241m.\u001b[39mget_active_deals_list())\n",
      "\u001b[1;31mImportError\u001b[0m: cannot import name 'db' from 'db_funcs' (e:\\VB\\trading_fun\\db_funcs.py)"
     ]
    }
   ],
   "source": [
    "from db_funcs import db\n",
    "\n",
    "\n",
    "print(db.get_active_deals_list())"
   ]
  },
  {
   "cell_type": "code",
   "execution_count": null,
   "metadata": {},
   "outputs": [
    {
     "name": "stdout",
     "output_type": "stream",
     "text": [
      "Дирмо\n"
     ]
    }
   ],
   "source": [
    "import re\n",
    "\n",
    "column = '2d^eal_id_1'\n",
    "\n",
    "if re.fullmatch(r'[a-zA-Z0-9_]*', column):\n",
    "    print('Все чики-пуки')\n",
    "else:\n",
    "    print('Дирмо')\n",
    "    \n",
    "    "
   ]
  },
  {
   "cell_type": "code",
   "execution_count": 9,
   "metadata": {},
   "outputs": [
    {
     "name": "stdout",
     "output_type": "stream",
     "text": [
      "3.7746285640000004\n"
     ]
    }
   ],
   "source": [
    "x = 1100\n",
    "y = 0.00000145108*x*x + 0.000978167*x + 0.942838064\n",
    "print(y)"
   ]
  },
  {
   "cell_type": "code",
   "execution_count": 10,
   "metadata": {},
   "outputs": [
    {
     "ename": "NameError",
     "evalue": "name 'DB_handler' is not defined",
     "output_type": "error",
     "traceback": [
      "\u001b[1;31m---------------------------------------------------------------------------\u001b[0m",
      "\u001b[1;31mNameError\u001b[0m                                 Traceback (most recent call last)",
      "Cell \u001b[1;32mIn[10], line 1\u001b[0m\n\u001b[1;32m----> 1\u001b[0m db \u001b[38;5;241m=\u001b[39m \u001b[43mDB_handler\u001b[49m(\u001b[38;5;124m'\u001b[39m\u001b[38;5;124mdeals_1h.sqlite\u001b[39m\u001b[38;5;124m'\u001b[39m)\n\u001b[0;32m      2\u001b[0m db\u001b[38;5;241m.\u001b[39msetup\n",
      "\u001b[1;31mNameError\u001b[0m: name 'DB_handler' is not defined"
     ]
    }
   ],
   "source": [
    "from db_funcs import DB_handler\n",
    "db = DB_handler('deals_1h.sqlite')\n",
    "db.setup\n",
    "\n",
    "print(db.get_active_deals_list())"
   ]
  },
  {
   "cell_type": "code",
   "execution_count": null,
   "metadata": {},
   "outputs": [],
   "source": []
  }
 ],
 "metadata": {
  "kernelspec": {
   "display_name": "Python 3.10.4 64-bit",
   "language": "python",
   "name": "python3"
  },
  "language_info": {
   "codemirror_mode": {
    "name": "ipython",
    "version": 3
   },
   "file_extension": ".py",
   "mimetype": "text/x-python",
   "name": "python",
   "nbconvert_exporter": "python",
   "pygments_lexer": "ipython3",
   "version": "3.12.2"
  },
  "orig_nbformat": 4,
  "vscode": {
   "interpreter": {
    "hash": "b09bb63d7c5b201608fc1825c6deafbc4ca04c877e7368bb0421f6193d1b1d7a"
   }
  }
 },
 "nbformat": 4,
 "nbformat_minor": 2
}
